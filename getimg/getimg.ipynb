{
 "cells": [
  {
   "cell_type": "markdown",
   "metadata": {},
   "source": [
    "{\"@context\":\"http:\\/\\/schema.org\",\"@type\":\"Photograph\",\"url\":\"https:\\/\\/500px.com\\/photo\\/123366239\\/becoming-the-photo-by-ellen-desmarais\",\"image\":\"https:\\/\\/drscdn.500px.org\\/photo\\/123366239\\/m%3D1170\\/6cedf0abf29fffc8a96d937613e8f7ef\",\"name\":\"Becoming the photo\",\"description\":\"San Francisco Global Photo Walk leader Michael Bonocore frames the TransAmerica building on Pier 7 at the end of the photo walk\",\"accountablePerson\":\"Ellen Desmarais\",\"aggregateRating\":\"92.6\",\"copyrightHolder\":\"Ellen Desmarais\",\"copyrightYear\":2015,\"creator\":\"Ellen Desmarais\",\"dateCreated\":\"2015-09-26T10:10:47-04:00\",\"datePublished\":\"2015-09-29T01:30:04-04:00\",\"discussionUrl\":\"https:\\/\\/500px.com\\/photo\\/123366239\\/becoming-the-photo-by-ellen-desmarais\",\"commentCount\":0,\"isFamilyFriendly\":true,\"keywords\":\"500pxGPW15SF, 500pxGpw15, Bonocore, Pier 7, San Francisco, camera, city, frame, golden hour, landmark, light, photo, photo walk, sky, skyline, tourism, travel, urban, view\",\"publisher\":\"500px.com\",\"thumbnailUrl\":\"https:\\/\\/drscdn.500px.org\\/photo\\/123366239\\/w%3D280_h%3D280\\/1da3888da13117ab203665ab76678272?v=2\"}"
   ]
  },
  {
   "cell_type": "code",
   "execution_count": 34,
   "metadata": {
    "collapsed": false
   },
   "outputs": [
    {
     "ename": "AttributeError",
     "evalue": "'NoneType' object has no attribute 'group'",
     "output_type": "error",
     "traceback": [
      "\u001b[1;31m---------------------------------------------------------------------------\u001b[0m",
      "\u001b[1;31mAttributeError\u001b[0m                            Traceback (most recent call last)",
      "\u001b[1;32m<ipython-input-34-304045b4a5b4>\u001b[0m in \u001b[0;36m<module>\u001b[1;34m()\u001b[0m\n\u001b[0;32m      7\u001b[0m \u001b[1;33m\u001b[0m\u001b[0m\n\u001b[0;32m      8\u001b[0m \u001b[0mimgfind\u001b[0m \u001b[1;33m=\u001b[0m \u001b[0mre\u001b[0m\u001b[1;33m.\u001b[0m\u001b[0msearch\u001b[0m\u001b[1;33m(\u001b[0m\u001b[1;34mr'\"image\":\"(.+)\",\"name\":\"([\\w\\s]+)\"'\u001b[0m\u001b[1;33m,\u001b[0m\u001b[0mtexts\u001b[0m\u001b[1;33m)\u001b[0m\u001b[1;33m\u001b[0m\u001b[0m\n\u001b[1;32m----> 9\u001b[1;33m \u001b[0mimgurl\u001b[0m \u001b[1;33m=\u001b[0m \u001b[0mimgfind\u001b[0m\u001b[1;33m.\u001b[0m\u001b[0mgroup\u001b[0m\u001b[1;33m(\u001b[0m\u001b[1;36m1\u001b[0m\u001b[1;33m)\u001b[0m\u001b[1;33m\u001b[0m\u001b[0m\n\u001b[0m\u001b[0;32m     10\u001b[0m \u001b[0mimgurl\u001b[0m \u001b[1;33m=\u001b[0m \u001b[0mimgurl\u001b[0m\u001b[1;33m.\u001b[0m\u001b[0mreplace\u001b[0m\u001b[1;33m(\u001b[0m\u001b[1;34m'\\\\'\u001b[0m\u001b[1;33m,\u001b[0m\u001b[1;34m''\u001b[0m\u001b[1;33m)\u001b[0m\u001b[1;33m\u001b[0m\u001b[0m\n\u001b[0;32m     11\u001b[0m \u001b[1;32mprint\u001b[0m \u001b[0mimgurl\u001b[0m\u001b[1;33m\u001b[0m\u001b[0m\n",
      "\u001b[1;31mAttributeError\u001b[0m: 'NoneType' object has no attribute 'group'"
     ]
    }
   ],
   "source": [
    "import urllib as ul\n",
    "import re\n",
    "\n",
    "urlname = 'https://500px.com/photo/123365895/on-the-streets-of-san-francisco-1-by-ellen-desmarais'\n",
    "uf = ul.urlopen(urlname)\n",
    "texts = uf.read()\n",
    "\n",
    "imgfind = re.search(r'\"image\":\"(.+)\",\"name\":\"([\\w\\s]+)\"',texts)\n",
    "imgurl = imgfind.group(1)\n",
    "imgurl = imgurl.replace('\\\\','')\n",
    "print imgurl\n",
    "\n",
    "imgname = imgfind.group(2)\n",
    "imgname = imgname.replace(' ','_')\n",
    "print imgname\n",
    "\n",
    "#ul.urlretrieve(imgurl, imgname)"
   ]
  },
  {
   "cell_type": "code",
   "execution_count": 57,
   "metadata": {
    "collapsed": false
   },
   "outputs": [
    {
     "data": {
      "text/plain": [
       "'On the streets of San Francisco #1'"
      ]
     },
     "execution_count": 57,
     "metadata": {},
     "output_type": "execute_result"
    }
   ],
   "source": [
    "texts = '\"name\":\"On the streets of San Francisco #1\",'\n",
    "begstr = r'\"name\":\"'\n",
    "bgnidx = texts.index(begstr)\n",
    "bgnidx += len(begstr)\n",
    "endidx = texts.index('\"', bgnidx)\n",
    "texts[bgnidx:endidx]"
   ]
  }
 ],
 "metadata": {
  "kernelspec": {
   "display_name": "Python 2",
   "language": "python",
   "name": "python2"
  },
  "language_info": {
   "codemirror_mode": {
    "name": "ipython",
    "version": 2
   },
   "file_extension": ".py",
   "mimetype": "text/x-python",
   "name": "python",
   "nbconvert_exporter": "python",
   "pygments_lexer": "ipython2",
   "version": "2.7.10"
  }
 },
 "nbformat": 4,
 "nbformat_minor": 0
}
